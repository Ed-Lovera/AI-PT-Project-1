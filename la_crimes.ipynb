{
 "cells": [
  {
   "cell_type": "code",
   "execution_count": 25,
   "metadata": {},
   "outputs": [
    {
     "name": "stdout",
     "output_type": "stream",
     "text": [
      "Requirement already satisfied: numpy in /opt/anaconda3/envs/py310/lib/python3.10/site-packages (1.26.4)\n",
      "Requirement already satisfied: pypdf in /opt/anaconda3/envs/py310/lib/python3.10/site-packages (4.3.1)\n",
      "Requirement already satisfied: typing_extensions>=4.0 in /opt/anaconda3/envs/py310/lib/python3.10/site-packages (from pypdf) (4.11.0)\n"
     ]
    }
   ],
   "source": [
    "# Install the required packages that are not included in the standard library.\n",
    "!pip install numpy\n",
    "!pip install pypdf"
   ]
  },
  {
   "cell_type": "code",
   "execution_count": 26,
   "metadata": {},
   "outputs": [],
   "source": [
    "# Import the required libraries.\n",
    "import pandas as pd\n",
    "import numpy as np\n",
    "from pathlib import Path\n",
    "\n",
    "# Used to read the contents of a PDF file.\n",
    "from pypdf import PdfReader\n",
    "\n",
    "# Used to extract the contents of a zip file.\n",
    "from zipfile import ZipFile"
   ]
  },
  {
   "cell_type": "code",
   "execution_count": 27,
   "metadata": {},
   "outputs": [],
   "source": [
    "# We are using the Los Angeles Crime Dataset (2020 -- Present) to analyze the crime data in Los Angeles.\n",
    "# Source: https://www.kaggle.com/datasets/nathaniellybrand/los-angeles-crime-dataset-2020-present/data\n",
    "\n",
    "# Check if the CSV file is present in the resources folder. Unzip the file if it is not present.\n",
    "zip_file_path = Path(\"resources/LA_CRIMES_2020to2024.zip\")\n",
    "csv_file_path = Path(\"resources/Crime_Data_from_2020_to_Present.csv\")\n",
    "\n",
    "if not csv_file_path.is_file():\n",
    "    with ZipFile(zip_file_path, \"r\") as zip_ref:\n",
    "        zip_ref.extract(\"Crime_Data_from_2020_to_Present.csv\", path=\"resources\")"
   ]
  },
  {
   "cell_type": "code",
   "execution_count": 28,
   "metadata": {},
   "outputs": [],
   "source": [
    "# Read the Los Angeles Crime Dataset (2020 -- Present) into a DataFrame.\n",
    "df = pd.read_csv(csv_file_path)"
   ]
  },
  {
   "cell_type": "code",
   "execution_count": 29,
   "metadata": {},
   "outputs": [],
   "source": [
    "# Add a new column to the DataFrame that provides a true/false value based on\n",
    "# whether the crime was committed during the coronavirus pandemic stay-at-home order.\n",
    "# Source: https://www.nbclosangeles.com/news/coronavirus/2020-2021-california-coronavirus-pandemic-timeline-key-events/2334100/\n",
    "\n",
    "# The stay-at-home order in Los Angeles started on March 19, 2020, and ended on January 25, 2021.\n",
    "start_date = pd.to_datetime(\"2020-03-19\", format=\"%Y-%m-%d\")\n",
    "end_date = pd.to_datetime(\"2021-01-25\", format=\"%Y-%m-%d\")\n",
    "\n",
    "# convert the DATE OCC column to datetime using format YYYY-MM-DD.\n",
    "df[\"DATE OCC\"] = pd.to_datetime(df[\"DATE OCC\"], format=\"mixed\")\n",
    "\n",
    "# Add a new column to the DataFrame that indicates whether the crime was committed during the stay-at-home order.\n",
    "df[\"COVID SAH\"] = np.where((df[\"DATE OCC\"] >= start_date) & (df[\"DATE OCC\"] <= end_date), True, False)"
   ]
  },
  {
   "cell_type": "code",
   "execution_count": 40,
   "metadata": {},
   "outputs": [],
   "source": [
    "# Classify the crimes as Violent or Property crimes based on the Crime Code.\n",
    "# Load the PDF file containing crime codes classifications of Violent and Property crimes.\n",
    "pdf_file_path = Path(\"resources/UCR-COMPSTAT062618.pdf\")\n",
    "pdf_reader = PdfReader(pdf_file_path)\n",
    "\n",
    "# Extract the text from the PDF file.\n",
    "raw_pdf_content = \"\".join(page.extract_text() for page in pdf_reader.pages)"
   ]
  },
  {
   "cell_type": "code",
   "execution_count": 41,
   "metadata": {},
   "outputs": [
    {
     "name": "stdout",
     "output_type": "stream",
     "text": [
      "{110: 'VIOLENT', 113: 'VIOLENT', 121: 'VIOLENT', 122: 'VIOLENT', 815: 'VIOLENT', 820: 'VIOLENT', 821: 'VIOLENT', 210: 'VIOLENT', 220: 'VIOLENT', 230: 'VIOLENT', 231: 'VIOLENT', 235: 'VIOLENT', 236: 'VIOLENT', 250: 'VIOLENT', 251: 'VIOLENT', 761: 'VIOLENT', 926: 'VIOLENT', 435: 'VIOLENT', 436: 'VIOLENT', 437: 'VIOLENT', 622: 'VIOLENT', 623: 'VIOLENT', 624: 'VIOLENT', 625: 'VIOLENT', 626: 'VIOLENT', 627: 'VIOLENT', 647: 'VIOLENT', 763: 'VIOLENT', 928: 'VIOLENT', 930: 'VIOLENT', 310: 'PROPERTY', 320: 'PROPERTY', 510: 'PROPERTY', 520: 'PROPERTY', 433: 'PROPERTY', 330: 'PROPERTY', 331: 'PROPERTY', 410: 'PROPERTY', 420: 'PROPERTY', 421: 'PROPERTY', 350: 'PROPERTY', 351: 'PROPERTY', 352: 'PROPERTY', 353: 'PROPERTY', 450: 'PROPERTY', 451: 'PROPERTY', 452: 'PROPERTY', 453: 'PROPERTY', 341: 'PROPERTY', 343: 'PROPERTY', 345: 'PROPERTY', 440: 'PROPERTY', 441: 'PROPERTY', 442: 'PROPERTY', 443: 'PROPERTY', 444: 'PROPERTY', 445: 'PROPERTY', 470: 'PROPERTY', 471: 'PROPERTY', 472: 'PROPERTY', 473: 'PROPERTY', 474: 'PROPERTY', 475: 'PROPERTY', 480: 'PROPERTY', 485: 'PROPERTY', 487: 'PROPERTY', 491: 'PROPERTY', 430: 'PROPERTY', 431: 'PROPERTY'}\n"
     ]
    }
   ],
   "source": [
    "# Remove all new lines, tabs and extra spaces from the text. Then split the text by spaces.\n",
    "pdf_content_list = raw_pdf_content.replace(\"\\n\", \" \").replace(\"\\t\", \" \").replace(\"  \", \" \").replace(\",\", \" \").split(\" \")\n",
    "\n",
    "# Create a dictionary to store the crime codes and their classifications.\n",
    "crime_code_classification = {}\n",
    "\n",
    "# iterate through the pdf_content_list to extract the crime codes and their classifications.\n",
    "current_classification = None\n",
    "for word in pdf_content_list:\n",
    "    word = word.strip()\n",
    "    if word == \"Violent\":\n",
    "        current_classification = \"VIOLENT\"\n",
    "    elif word == \"Property\":\n",
    "        current_classification = \"PROPERTY\"\n",
    "    else:\n",
    "        # If the word is a crime code, store the current classification for that crime code.\n",
    "        try:\n",
    "            word = int(word)\n",
    "        except ValueError:\n",
    "            continue\n",
    "        crime_code_classification[word] = current_classification\n",
    "\n",
    "print(crime_code_classification)\n",
    "\n",
    "# Assert known crime codes to their classifications at the known dividers.\n",
    "assert crime_code_classification[310] == \"PROPERTY\"\n",
    "assert crime_code_classification[491] == \"PROPERTY\"\n",
    "assert crime_code_classification[110] == \"VIOLENT\"\n",
    "assert crime_code_classification[930] == \"VIOLENT\"\n",
    "assert crime_code_classification[926] == \"VIOLENT\""
   ]
  },
  {
   "cell_type": "code",
   "execution_count": 43,
   "metadata": {},
   "outputs": [],
   "source": [
    "# Add a new column to the DataFrame that classifies the crime as Violent or Property.\n",
    "df[\"CRIME CLASSIFICATION\"] = df[\"Crm Cd\"].map(crime_code_classification).fillna(\"OTHER\")"
   ]
  },
  {
   "cell_type": "code",
   "execution_count": null,
   "metadata": {},
   "outputs": [],
   "source": []
  }
 ],
 "metadata": {
  "kernelspec": {
   "display_name": "py310",
   "language": "python",
   "name": "python3"
  },
  "language_info": {
   "codemirror_mode": {
    "name": "ipython",
    "version": 3
   },
   "file_extension": ".py",
   "mimetype": "text/x-python",
   "name": "python",
   "nbconvert_exporter": "python",
   "pygments_lexer": "ipython3",
   "version": "3.10.14"
  }
 },
 "nbformat": 4,
 "nbformat_minor": 2
}
